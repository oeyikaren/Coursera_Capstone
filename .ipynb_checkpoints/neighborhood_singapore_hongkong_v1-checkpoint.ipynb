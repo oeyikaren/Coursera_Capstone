{
 "cells": [
  {
   "cell_type": "markdown",
   "metadata": {},
   "source": [
    "# Capstone Project - The Battle of Neighborhoods\n",
    "### Applied Data Science Capstone (Coursera)"
   ]
  },
  {
   "cell_type": "markdown",
   "metadata": {},
   "source": [
    "### Table of Contents\n",
    "- Introduction\n",
    "- Data\n",
    "- Methodolody\n",
    "- Analysis\n",
    "- Results\n",
    "- Discussion\n",
    "- Conclusion"
   ]
  },
  {
   "cell_type": "markdown",
   "metadata": {},
   "source": [
    "## Introduction\n",
    "\n",
    "Singapore, both an island and a country, is one of the smallest but yet most modern and urbanized city in Southeast Asia. From a developing country lacking natural resources, Singapore transformed into a prosperous country through international trades, tourism and become one of the major financial hubs in Asia. It is a multi-racial and multi-cultural country with close to 30% of the population are non-residents from all around the world.\n",
    "\n",
    "Hong Kong, once a fishing village, became one of the most developed territory and transformed into a major financial and commercial port sine 1990s. While majority of the population is ethinic Chinese, as being a trading, business and tourism hub, there is a considerable number of expatriates living in Hong Kong which forms close to 9% of total population.\n",
    "\n",
    "Singapore and Hong Kong are both very diversed and are among the top 10 Global Financial Centres. Both cities shared a number of similarities - economies dominated by service sector, high per capita income, high population density, etc. Being 2 major cities in Asia, Singapore and Hong Kong have always been in comparison in different areas such as economy, living environment, education system. \n",
    "\n",
    "With the changes in the economic and political environments, there are increasing number of people in Hong Kong who are planning to relocate to other countries, Singapore being one of the countries on the list. There are a number of factors when deciding on the city/country to relocate to - e.g. economic environment, political stability, education, cost of living, living environment... Living environment is utmost important as a similar neighborhood will make it easier for people to adapt to the changes during the relocation process.\n",
    "\n",
    "\n",
    "### Problem to be solved and Target Audience\n",
    "\n",
    "The target audience for this project is the people who are planning to relocate from Hong Kong to Singapore and need to decide which neighborhood to live in. Living environment is one of the important factors that they would need to consider during relocation. With more similarities between the current and future neighborhoods, it makes it easier for the people to adapt to the new environment during the relocation process.\n",
    "\n",
    "While there have been a wide range of comparisons between Singapore and Hong Kong in different aspects, there are limited resources available when comparing neighborhoods between the 2 cities. This project will focus on comparing the different neighborhoods of Singapore and Hong Kong to explore the similarities and differences among the neighborhoods. By clustering the neighborhoods and analyzing the top venues in each neighborhood, we will be able to provide suggested neighborhoods for our target audience, and recommended venues to explore when they relocate there."
   ]
  },
  {
   "cell_type": "markdown",
   "metadata": {},
   "source": [
    "## Data\n",
    "\n",
    "In order to compare the neighborhoods in Singapore and Hong Kong, we will need to obtain the below information:\n",
    "- List of neighborhood for Singapore and Hong Kong\n",
    "- Coordinates for each of the neighborhoods\n",
    "- Venue data in each neighborhood\n",
    "\n",
    "### Neighborhood data for Singapore and Hong Kong\n",
    "We will obtain the list of neighborhood for Singapore and Hong Kong by extracting the information from Wikipedia pages:\n",
    "https://en.wikipedia.org/wiki/Planning_Areas_of_Singapore\n",
    "https://en.wikipedia.org/wiki/Districts_of_Hong_Kong\n",
    "We will leverage on BeautifulSoup to scrape the data from Wikipedia and transformed them into pandas dataframes. Data will be cleaned by removing unnecessary columns as we will only require the list of neighborhoods. We will also add a \"City\" column in the dataframe to identify which city the neighborhoods belong to when we merge the neighborhood data for Singapore and Hong Kong together. \n",
    "\n",
    "### Coordinates data for each neighborhood\n",
    "As there is no coordinates data for each neighborhood in the dataframe we created, we will leverage on Nominatim to obtain the latitudes and longitudes of each neighborhood. Latitudes and longitudes of each neighborhood will then be added to our neighborhood dataframe.\n",
    "\n",
    "### Venue/Location data from Foursquare\n",
    "We will leverage on Foursquare to obtain the list of venues and their location data in each neighborhood. We will limit to 100 results within 500m radius from the latitudes and longitudes of each neighborhood for our venue results. After we have a list of venues for each neighborhood, we will then group similar venue categories together to analyze top venue categories in the neighborhoods and to segment the neighborhood by their similarity.\n",
    "\n",
    "In the recommendation part of this project, we will also leverage on Foursquare to explore and obtain the list of venues and the venue information such as user reviews for our suggested neighborhood to our target audience. "
   ]
  },
  {
   "cell_type": "markdown",
   "metadata": {},
   "source": [
    "## Methodology\n",
    "\n",
    "After we have obtained both neighborhood data and venue data, we will merge the the data to obtain a dataframe with the list of neighborhoods, the coordinates and the top 10 common venue categories. We will then leverage on K-means clustering algorithm to group all the neighborhoods into clusters according to their similarities. To obtain the optimal K, we will use the elbow method and use the optimal K for the clustering of neighboorhoods.\n",
    "\n",
    "After similar neighborhoods are grouped into clusters, we will then visualize the neighborhood cluster distribution using Folium map and create maps for Singapore and Hong Kong respectively.\n",
    "\n",
    "According to the current neighborhood that our target audience lives in Hong Kong, we will be able to provide a list of suggested neighborhoods in Singapore which are in the same cluster group. We can also further personalize our recommendation according to the venue preferences of our target audience and provide a list of recommended venues with their information uding the explore function in Foursquare.\n"
   ]
  },
  {
   "cell_type": "code",
   "execution_count": null,
   "metadata": {},
   "outputs": [],
   "source": []
  }
 ],
 "metadata": {
  "kernelspec": {
   "display_name": "Python 3",
   "language": "python",
   "name": "python3"
  },
  "language_info": {
   "codemirror_mode": {
    "name": "ipython",
    "version": 3
   },
   "file_extension": ".py",
   "mimetype": "text/x-python",
   "name": "python",
   "nbconvert_exporter": "python",
   "pygments_lexer": "ipython3",
   "version": "3.8.3"
  }
 },
 "nbformat": 4,
 "nbformat_minor": 4
}
