{
 "cells": [
  {
   "cell_type": "markdown",
   "metadata": {},
   "source": [
    "# Capstone Project - The Battle of Neighborhoods"
   ]
  },
  {
   "cell_type": "markdown",
   "metadata": {},
   "source": [
    "## Introduction\n",
    "\n",
    "Singapore, both an island and a country, is one of the smallest but yet most modern and urbanized city in Southeast Asia. From a developing country lacking natural resources, Singapore transformed into a prosperous country through international trades, tourism and become one of the major financial hubs in Asia. It is a multi-racial and multi-cultural country with close to 30% of the population are non-residents from all around the world.\n",
    "\n",
    "Hong Kong, once a fishing village, became one of the most developed territory and transformed into a major financial and commercial port sine 1990s. While majority of the population is ethinic Chinese, as being a trading, business and tourism hub, there is a considerable number of expatriates living in Hong Kong which forms close to 9% of total population.\n",
    "\n",
    "Singapore and Hong Kong are both very diversed and are among the top 10 Global Financial Centres. Both cities shared a number of similarities - economies dominated by service sector, high per capita income, high population density, etc. Being 2 major cities in Asia, Singapore and Hong Kong have always been in comparison in different areas such as economy, living environment, education system. \n",
    "\n",
    "With the changes in the economic and political environments, there are increasing number of people in Hong Kong who are planning to relocate to other countries, Singapore being one of the countries on the list. There are a number of factors when deciding on the city/country to relocate to - e.g. economic environment, political stability, education, cost of living, living environment... Living environment is utmost important as a similar neighborhood will make it easier for people to adapt to the changes during the relocation process.\n",
    "\n",
    "\n",
    "## Problem to be solved and Target Audience\n",
    "\n",
    "The target audience for this project is the people who are planning to relocate from Hong Kong to Singapore and need to decide which neighborhood to live in. Living environment is one of the important factors that they would need to consider during relocation. With more similarities between the current and future neighborhoods, it makes it easier for the people to adapt to the new environment during the relocation process.\n",
    "\n",
    "While there have been a wide range of comparisons between Singapore and Hong Kong in different aspects, there are limited resources available when comparing neighborhoods between the 2 cities. This project will focus on comparing the different neighborhoods of Singapore and Hong Kong to explore the similarities and differences among the neighborhoods. By clustering the neighborhoods and analyzing the top venues in each neighborhood, we will be able to provide suggested neighborhoods for our target audience, and recommended venues to explore when they relocate there."
   ]
  },
  {
   "cell_type": "markdown",
   "metadata": {},
   "source": [
    "## Data and Methodology\n",
    "\n",
    "### Neighborhood data for Singapore and Hong Kong\n",
    "In order to obtain the neighborhood information, data from Wikipedia will be extracted and transformed into pandas dataframes. We will then leverage on Nominatim to obtain the latitudes and longitudes of each neighborhood for further analysis at a later stage.\n",
    "\n",
    "### Venue/Location data from Foursquare\n",
    "To obtain the location data of the venues in each neighborhood, we will leverage on Foursquare to obtain the list of venues in each neighborhood. \n",
    "\n",
    "### Methodology\n",
    "\n",
    "Venue data will be merged with the neighborhood data in order to group all the neighborhoods into clusters using k-means clustering algorithm. After similar neighborhoods are grouped into clusters, we will visualize the neighborhood cluster distribution using Folium map.\n",
    "\n",
    "According to the current neighborhood that our target audience lives in Hong Kong, we will be able to provide suggested neighborhoods in Singapore which are in the same cluster group. We will also be able to provide recommended venues with the venue infomation for that neighborhood using the explore function in Foursquare."
   ]
  },
  {
   "cell_type": "code",
   "execution_count": null,
   "metadata": {},
   "outputs": [],
   "source": []
  }
 ],
 "metadata": {
  "kernelspec": {
   "display_name": "Python 3",
   "language": "python",
   "name": "python3"
  },
  "language_info": {
   "codemirror_mode": {
    "name": "ipython",
    "version": 3
   },
   "file_extension": ".py",
   "mimetype": "text/x-python",
   "name": "python",
   "nbconvert_exporter": "python",
   "pygments_lexer": "ipython3",
   "version": "3.8.3"
  }
 },
 "nbformat": 4,
 "nbformat_minor": 4
}
