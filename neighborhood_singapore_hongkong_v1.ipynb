{
 "cells": [
  {
   "cell_type": "markdown",
   "metadata": {},
   "source": [
    "# Capstone Project - The Battle of Neighborhoods"
   ]
  },
  {
   "cell_type": "markdown",
   "metadata": {},
   "source": [
    "## Introduction\n",
    "Singapore and Hong Kong are both very diversed and have been the financial hubs in Asia for decades. \n",
    "\n",
    "With the changes in the economic environments, the number of people who are considering relocating to different countries/cities is on the rise. There are a number of factors when deciding on the city/country to relocate to - e.g. economic environment, political stability, education, cost of living, living environment...\n",
    "\n",
    "While there have been a wide range of comparisons between Singapore and Hong Kong in different aspects, this project wil focus on comparing the neighborhoods of Singapore and Hong Kong to explore the similarity/differences among the neighborhoods."
   ]
  },
  {
   "cell_type": "markdown",
   "metadata": {},
   "source": [
    "## Data\n",
    "Neighborhood data for Singapore and Hong Kong\n",
    "- Obtain the neighborhood data by scraping the table from Wikipedia pages and transform the data into pandas dataframe\n",
    "\n",
    "Coordinates of neighborhoods\n",
    "- Leverage on Nominatim to obtain the latitudes and longitudes of the neighborhoods\n",
    "\n",
    "Location data from Foursquare\n",
    "- Leverage on the location data from Foursquare to explore and cluster the neighborhoods of Singapore and Hong Kong\n"
   ]
  },
  {
   "cell_type": "code",
   "execution_count": null,
   "metadata": {},
   "outputs": [],
   "source": []
  }
 ],
 "metadata": {
  "kernelspec": {
   "display_name": "Python 3",
   "language": "python",
   "name": "python3"
  },
  "language_info": {
   "codemirror_mode": {
    "name": "ipython",
    "version": 3
   },
   "file_extension": ".py",
   "mimetype": "text/x-python",
   "name": "python",
   "nbconvert_exporter": "python",
   "pygments_lexer": "ipython3",
   "version": "3.8.3"
  }
 },
 "nbformat": 4,
 "nbformat_minor": 4
}
